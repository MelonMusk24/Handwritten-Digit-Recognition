{
  "nbformat": 4,
  "nbformat_minor": 0,
  "metadata": {
    "colab": {
      "provenance": [],
      "collapsed_sections": []
    },
    "kernelspec": {
      "name": "python3",
      "display_name": "Python 3"
    },
    "language_info": {
      "name": "python"
    }
  },
  "cells": [
    {
      "cell_type": "code",
      "execution_count": null,
      "metadata": {
        "id": "TaoeHL5THe6k"
      },
      "outputs": [],
      "source": [
        "# Importing required modules\n",
        "\n",
        "import numpy as np\n",
        "import pandas as pd\n",
        "import itertools\n",
        "\n",
        "from sklearn.model_selection import train_test_split\n",
        "from sklearn.preprocessing import OneHotEncoder\n",
        "from sklearn.metrics import confusion_matrix\n",
        "\n",
        "import matplotlib.pyplot as plt\n",
        "\n",
        "import tensorflow as tf\n",
        "from tensorflow.keras import datasets, layers, models\n",
        "\n",
        "from keras.datasets import mnist\n",
        "from keras.models import Sequential\n",
        "from keras.layers import Dense\n",
        "from keras.optimizers import Adam\n",
        "import matplotlib.pyplot as plt"
      ]
    },
    {
      "cell_type": "code",
      "source": [
        "# Loading the mnist dataset\n",
        "images = mnist.load_data()\n",
        "images"
      ],
      "metadata": {
        "colab": {
          "base_uri": "https://localhost:8080/"
        },
        "id": "WM8y1npUKNEL",
        "outputId": "07b74d4b-6daf-4495-f066-2c09ec86762f"
      },
      "execution_count": null,
      "outputs": [
        {
          "output_type": "stream",
          "name": "stdout",
          "text": [
            "Downloading data from https://storage.googleapis.com/tensorflow/tf-keras-datasets/mnist.npz\n",
            "11490434/11490434 [==============================] - 0s 0us/step\n"
          ]
        },
        {
          "output_type": "execute_result",
          "data": {
            "text/plain": [
              "((array([[[0, 0, 0, ..., 0, 0, 0],\n",
              "          [0, 0, 0, ..., 0, 0, 0],\n",
              "          [0, 0, 0, ..., 0, 0, 0],\n",
              "          ...,\n",
              "          [0, 0, 0, ..., 0, 0, 0],\n",
              "          [0, 0, 0, ..., 0, 0, 0],\n",
              "          [0, 0, 0, ..., 0, 0, 0]],\n",
              "  \n",
              "         [[0, 0, 0, ..., 0, 0, 0],\n",
              "          [0, 0, 0, ..., 0, 0, 0],\n",
              "          [0, 0, 0, ..., 0, 0, 0],\n",
              "          ...,\n",
              "          [0, 0, 0, ..., 0, 0, 0],\n",
              "          [0, 0, 0, ..., 0, 0, 0],\n",
              "          [0, 0, 0, ..., 0, 0, 0]],\n",
              "  \n",
              "         [[0, 0, 0, ..., 0, 0, 0],\n",
              "          [0, 0, 0, ..., 0, 0, 0],\n",
              "          [0, 0, 0, ..., 0, 0, 0],\n",
              "          ...,\n",
              "          [0, 0, 0, ..., 0, 0, 0],\n",
              "          [0, 0, 0, ..., 0, 0, 0],\n",
              "          [0, 0, 0, ..., 0, 0, 0]],\n",
              "  \n",
              "         ...,\n",
              "  \n",
              "         [[0, 0, 0, ..., 0, 0, 0],\n",
              "          [0, 0, 0, ..., 0, 0, 0],\n",
              "          [0, 0, 0, ..., 0, 0, 0],\n",
              "          ...,\n",
              "          [0, 0, 0, ..., 0, 0, 0],\n",
              "          [0, 0, 0, ..., 0, 0, 0],\n",
              "          [0, 0, 0, ..., 0, 0, 0]],\n",
              "  \n",
              "         [[0, 0, 0, ..., 0, 0, 0],\n",
              "          [0, 0, 0, ..., 0, 0, 0],\n",
              "          [0, 0, 0, ..., 0, 0, 0],\n",
              "          ...,\n",
              "          [0, 0, 0, ..., 0, 0, 0],\n",
              "          [0, 0, 0, ..., 0, 0, 0],\n",
              "          [0, 0, 0, ..., 0, 0, 0]],\n",
              "  \n",
              "         [[0, 0, 0, ..., 0, 0, 0],\n",
              "          [0, 0, 0, ..., 0, 0, 0],\n",
              "          [0, 0, 0, ..., 0, 0, 0],\n",
              "          ...,\n",
              "          [0, 0, 0, ..., 0, 0, 0],\n",
              "          [0, 0, 0, ..., 0, 0, 0],\n",
              "          [0, 0, 0, ..., 0, 0, 0]]], dtype=uint8),\n",
              "  array([5, 0, 4, ..., 5, 6, 8], dtype=uint8)),\n",
              " (array([[[0, 0, 0, ..., 0, 0, 0],\n",
              "          [0, 0, 0, ..., 0, 0, 0],\n",
              "          [0, 0, 0, ..., 0, 0, 0],\n",
              "          ...,\n",
              "          [0, 0, 0, ..., 0, 0, 0],\n",
              "          [0, 0, 0, ..., 0, 0, 0],\n",
              "          [0, 0, 0, ..., 0, 0, 0]],\n",
              "  \n",
              "         [[0, 0, 0, ..., 0, 0, 0],\n",
              "          [0, 0, 0, ..., 0, 0, 0],\n",
              "          [0, 0, 0, ..., 0, 0, 0],\n",
              "          ...,\n",
              "          [0, 0, 0, ..., 0, 0, 0],\n",
              "          [0, 0, 0, ..., 0, 0, 0],\n",
              "          [0, 0, 0, ..., 0, 0, 0]],\n",
              "  \n",
              "         [[0, 0, 0, ..., 0, 0, 0],\n",
              "          [0, 0, 0, ..., 0, 0, 0],\n",
              "          [0, 0, 0, ..., 0, 0, 0],\n",
              "          ...,\n",
              "          [0, 0, 0, ..., 0, 0, 0],\n",
              "          [0, 0, 0, ..., 0, 0, 0],\n",
              "          [0, 0, 0, ..., 0, 0, 0]],\n",
              "  \n",
              "         ...,\n",
              "  \n",
              "         [[0, 0, 0, ..., 0, 0, 0],\n",
              "          [0, 0, 0, ..., 0, 0, 0],\n",
              "          [0, 0, 0, ..., 0, 0, 0],\n",
              "          ...,\n",
              "          [0, 0, 0, ..., 0, 0, 0],\n",
              "          [0, 0, 0, ..., 0, 0, 0],\n",
              "          [0, 0, 0, ..., 0, 0, 0]],\n",
              "  \n",
              "         [[0, 0, 0, ..., 0, 0, 0],\n",
              "          [0, 0, 0, ..., 0, 0, 0],\n",
              "          [0, 0, 0, ..., 0, 0, 0],\n",
              "          ...,\n",
              "          [0, 0, 0, ..., 0, 0, 0],\n",
              "          [0, 0, 0, ..., 0, 0, 0],\n",
              "          [0, 0, 0, ..., 0, 0, 0]],\n",
              "  \n",
              "         [[0, 0, 0, ..., 0, 0, 0],\n",
              "          [0, 0, 0, ..., 0, 0, 0],\n",
              "          [0, 0, 0, ..., 0, 0, 0],\n",
              "          ...,\n",
              "          [0, 0, 0, ..., 0, 0, 0],\n",
              "          [0, 0, 0, ..., 0, 0, 0],\n",
              "          [0, 0, 0, ..., 0, 0, 0]]], dtype=uint8),\n",
              "  array([7, 2, 1, ..., 4, 5, 6], dtype=uint8)))"
            ]
          },
          "metadata": {},
          "execution_count": 2
        }
      ]
    },
    {
      "cell_type": "code",
      "source": [
        "# Splitting the dataset for training and testing\n",
        "(train_img, train_label), (test_img, test_label) = images\n",
        "\n",
        "# Normalize pixel values between 0 and 1\n",
        "train_img, test_img = train_img / 255.0, test_img / 255.0\n",
        "print(train_img.shape)\n",
        "\n",
        "# Reshaping image into the readable shape\n",
        "train_img = train_img.reshape(-1, 28, 28, 1)\n",
        "test_img = test_img.reshape(-1, 28, 28, 1)"
      ],
      "metadata": {
        "id": "v-hRjcssKRrn",
        "colab": {
          "base_uri": "https://localhost:8080/"
        },
        "outputId": "286ba22b-9351-4dd3-d11b-0fe6faf4374f"
      },
      "execution_count": null,
      "outputs": [
        {
          "output_type": "stream",
          "name": "stdout",
          "text": [
            "(60000, 28, 28)\n"
          ]
        }
      ]
    },
    {
      "cell_type": "code",
      "source": [
        "# Defining the CNN architecture using relu activation function as we want to avoid negative values\n",
        "model = models.Sequential()\n",
        "\n",
        "# Adding a convolution layer with 50 filters each of dimension 3x3\n",
        "model.add(layers.Conv2D(50, (3, 3), activation='relu', input_shape=(28, 28, 1)))\n",
        "\n",
        "# Using max pooling with kernel dimensions 2x2\n",
        "model.add(layers.MaxPooling2D((2, 2)))\n",
        "\n",
        "# Adding a convolution layer with 100 filters each of dimension 3x3\n",
        "model.add(layers.Conv2D(100, (3, 3), activation='relu'))\n",
        "\n",
        "# Using max pooling with kernel dimensions 2x2\n",
        "model.add(layers.MaxPooling2D((2, 2)))\n",
        "\n",
        "# Adding a convolution layer with 100 filters each of dimension 3x3\n",
        "model.add(layers.Conv2D(100, (3, 3), activation='relu'))\n",
        "\n",
        "# Flattening the data to one dimension\n",
        "model.add(layers.Flatten())\n",
        "\n",
        "# Adding a dense layer with 100 nodes which has high interconnection of nodes\n",
        "model.add(layers.Dense(100, activation='relu'))\n",
        "\n",
        "# Defining the output layer\n",
        "model.add(layers.Dense(10))\n",
        "\n",
        "model.summary()"
      ],
      "metadata": {
        "id": "6DMGc8sQLA5V",
        "colab": {
          "base_uri": "https://localhost:8080/"
        },
        "outputId": "404f029d-235a-49c6-9553-fc17ac0687e9"
      },
      "execution_count": null,
      "outputs": [
        {
          "output_type": "stream",
          "name": "stdout",
          "text": [
            "Model: \"sequential\"\n",
            "_________________________________________________________________\n",
            " Layer (type)                Output Shape              Param #   \n",
            "=================================================================\n",
            " conv2d (Conv2D)             (None, 26, 26, 50)        500       \n",
            "                                                                 \n",
            " max_pooling2d (MaxPooling2D  (None, 13, 13, 50)       0         \n",
            " )                                                               \n",
            "                                                                 \n",
            " conv2d_1 (Conv2D)           (None, 11, 11, 100)       45100     \n",
            "                                                                 \n",
            " max_pooling2d_1 (MaxPooling  (None, 5, 5, 100)        0         \n",
            " 2D)                                                             \n",
            "                                                                 \n",
            " conv2d_2 (Conv2D)           (None, 3, 3, 100)         90100     \n",
            "                                                                 \n",
            " flatten (Flatten)           (None, 900)               0         \n",
            "                                                                 \n",
            " dense (Dense)               (None, 100)               90100     \n",
            "                                                                 \n",
            " dense_1 (Dense)             (None, 10)                1010      \n",
            "                                                                 \n",
            "=================================================================\n",
            "Total params: 226,810\n",
            "Trainable params: 226,810\n",
            "Non-trainable params: 0\n",
            "_________________________________________________________________\n"
          ]
        }
      ]
    },
    {
      "cell_type": "code",
      "source": [
        "# Training the model using the adam optimizer\n",
        "model.compile(optimizer = 'adam', loss=tf.keras.losses.SparseCategoricalCrossentropy(from_logits = True), metrics=['accuracy'])\n",
        "\n",
        "# Fitting the data into the model\n",
        "history = model.fit(train_img, train_label, epochs = 15, validation_data=(test_img, test_label))"
      ],
      "metadata": {
        "colab": {
          "base_uri": "https://localhost:8080/"
        },
        "id": "wtvTbOGTNtmF",
        "outputId": "a2a996f9-af4e-4e33-8264-5cbc98483fca"
      },
      "execution_count": null,
      "outputs": [
        {
          "output_type": "stream",
          "name": "stdout",
          "text": [
            "Epoch 1/15\n",
            "1875/1875 [==============================] - 125s 66ms/step - loss: 0.1198 - accuracy: 0.9628 - val_loss: 0.0447 - val_accuracy: 0.9849\n",
            "Epoch 2/15\n",
            "1875/1875 [==============================] - 120s 64ms/step - loss: 0.0414 - accuracy: 0.9875 - val_loss: 0.0304 - val_accuracy: 0.9897\n",
            "Epoch 3/15\n",
            "1875/1875 [==============================] - 119s 64ms/step - loss: 0.0296 - accuracy: 0.9909 - val_loss: 0.0512 - val_accuracy: 0.9839\n",
            "Epoch 4/15\n",
            "1875/1875 [==============================] - 122s 65ms/step - loss: 0.0233 - accuracy: 0.9927 - val_loss: 0.0296 - val_accuracy: 0.9912\n",
            "Epoch 5/15\n",
            "1875/1875 [==============================] - 122s 65ms/step - loss: 0.0171 - accuracy: 0.9948 - val_loss: 0.0295 - val_accuracy: 0.9921\n",
            "Epoch 6/15\n",
            "1875/1875 [==============================] - 122s 65ms/step - loss: 0.0134 - accuracy: 0.9954 - val_loss: 0.0309 - val_accuracy: 0.9915\n",
            "Epoch 7/15\n",
            "1875/1875 [==============================] - 119s 63ms/step - loss: 0.0115 - accuracy: 0.9964 - val_loss: 0.0463 - val_accuracy: 0.9897\n",
            "Epoch 8/15\n",
            "1875/1875 [==============================] - 122s 65ms/step - loss: 0.0107 - accuracy: 0.9961 - val_loss: 0.0452 - val_accuracy: 0.9895\n",
            "Epoch 9/15\n",
            "1875/1875 [==============================] - 121s 65ms/step - loss: 0.0104 - accuracy: 0.9970 - val_loss: 0.0316 - val_accuracy: 0.9930\n",
            "Epoch 10/15\n",
            "1875/1875 [==============================] - 118s 63ms/step - loss: 0.0076 - accuracy: 0.9976 - val_loss: 0.0364 - val_accuracy: 0.9925\n",
            "Epoch 11/15\n",
            "1875/1875 [==============================] - 122s 65ms/step - loss: 0.0072 - accuracy: 0.9979 - val_loss: 0.0418 - val_accuracy: 0.9906\n",
            "Epoch 12/15\n",
            "1875/1875 [==============================] - 119s 64ms/step - loss: 0.0071 - accuracy: 0.9977 - val_loss: 0.0401 - val_accuracy: 0.9931\n",
            "Epoch 13/15\n",
            "1875/1875 [==============================] - 119s 63ms/step - loss: 0.0069 - accuracy: 0.9981 - val_loss: 0.0356 - val_accuracy: 0.9925\n",
            "Epoch 14/15\n",
            "1875/1875 [==============================] - 117s 63ms/step - loss: 0.0071 - accuracy: 0.9977 - val_loss: 0.0483 - val_accuracy: 0.9914\n",
            "Epoch 15/15\n",
            "1875/1875 [==============================] - 120s 64ms/step - loss: 0.0066 - accuracy: 0.9980 - val_loss: 0.0472 - val_accuracy: 0.9913\n"
          ]
        }
      ]
    },
    {
      "cell_type": "code",
      "source": [
        "# Testing and Evaluating \n",
        "plt.plot(history.history['accuracy'], label='accuracy')\n",
        "plt.plot(history.history['val_accuracy'], label = 'val_accuracy')\n",
        "plt.xlabel('Epoch')\n",
        "plt.ylabel('Accuracy')\n",
        "plt.ylim([0.5, 1])\n",
        "plt.legend(loc='lower right')"
      ],
      "metadata": {
        "colab": {
          "base_uri": "https://localhost:8080/",
          "height": 300
        },
        "id": "5SRkDowyOCOI",
        "outputId": "bf19564b-ea7a-4c15-d2ec-58e9dd5a04db"
      },
      "execution_count": null,
      "outputs": [
        {
          "output_type": "execute_result",
          "data": {
            "text/plain": [
              "<matplotlib.legend.Legend at 0x7f844badb110>"
            ]
          },
          "metadata": {},
          "execution_count": 100
        },
        {
          "output_type": "display_data",
          "data": {
            "text/plain": [
              "<Figure size 432x288 with 1 Axes>"
            ],
            "image/png": "[encoded data removed]"
          },
          "metadata": {
            "needs_background": "light"
          }
        }
      ]
    },
    {
      "cell_type": "code",
      "source": [
        "print(\"accuracy =\" , history.history['accuracy'][1])"
      ],
      "metadata": {
        "colab": {
          "base_uri": "https://localhost:8080/"
        },
        "id": "jQAqlEmiTPKP",
        "outputId": "deb68042-ac19-4b97-f49b-8929e9f453db"
      },
      "execution_count": null,
      "outputs": [
        {
          "output_type": "stream",
          "name": "stdout",
          "text": [
            "accuracy = 0.9875166416168213\n"
          ]
        }
      ]
    },
    {
      "cell_type": "code",
      "source": [
        "# Calculating model accuracy using testing dataset\n",
        "results = model.evaluate(test_img, test_label)\n",
        "print('Final test set loss: {:4f}'.format(results[0]))\n",
        "print('Final test set accuracy: {:4f}'.format(results[1]))\n",
        "\n",
        "predictions = model.predict(test_img)\n",
        "\n",
        "# Function to plot the confusion matrix\n",
        "def plot_confusion_matrix(cm, classes,\n",
        "                          normalize=False,\n",
        "                          title='Confusion matrix',\n",
        "                          cmap=plt.cm.Blues):\n",
        "    plt.imshow(cm, interpolation='nearest', cmap=cmap)\n",
        "    plt.title(title)\n",
        "    plt.colorbar()\n",
        "    tick_marks = np.arange(len(classes))\n",
        "    plt.xticks(tick_marks, classes, rotation=45)\n",
        "    plt.yticks(tick_marks, classes)\n",
        "\n",
        "    if normalize:\n",
        "        cm = cm.astype('float') / cm.sum(axis=1)[:, np.newaxis]\n",
        "\n",
        "    thresh = cm.max() / 2.\n",
        "    for i, j in itertools.product(range(cm.shape[0]), range(cm.shape[1])):\n",
        "        plt.text(j, i, cm[i, j],\n",
        "                 horizontalalignment=\"center\",\n",
        "                 color=\"white\" if cm[i, j] > thresh else \"black\")\n",
        "\n",
        "    plt.tight_layout()\n",
        "    plt.ylabel('True label')\n",
        "    plt.xlabel('Predicted label')\n",
        "\n",
        "# Making the confusion matrix\n",
        "confusion_mtx = confusion_matrix(test_label, np.argmax(predictions, axis = 1)) \n",
        "# Plot the confusion matrix\n",
        "plot_confusion_matrix(confusion_mtx, classes = range(10))"
      ],
      "metadata": {
        "colab": {
          "base_uri": "https://localhost:8080/",
          "height": 380
        },
        "id": "UC2cscHvTWFg",
        "outputId": "d2cdfa71-1561-4311-931b-639285181b8a"
      },
      "execution_count": null,
      "outputs": [
        {
          "output_type": "stream",
          "name": "stdout",
          "text": [
            "313/313 [==============================] - 6s 20ms/step - loss: 0.0472 - accuracy: 0.9913\n",
            "313/313 [==============================] - 6s 19ms/step\n",
            "Final test set loss: 0.047244\n",
            "Final test set accuracy: 0.991300\n"
          ]
        },
        {
          "output_type": "display_data",
          "data": {
            "text/plain": [
              "<Figure size 432x288 with 2 Axes>"
            ],
            "image/png": "[encoded data removed]"
          },
          "metadata": {
            "needs_background": "light"
          }
        }
      ]
    },
    {
      "cell_type": "code",
      "source": [],
      "metadata": {
        "id": "NHM_LjrT9VfO"
      },
      "execution_count": null,
      "outputs": []
    }
  ]
}